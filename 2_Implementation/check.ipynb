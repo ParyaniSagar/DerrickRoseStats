{
 "cells": [
  {
   "cell_type": "code",
   "execution_count": 6,
   "metadata": {},
   "outputs": [
    {
     "name": "stdout",
     "output_type": "stream",
     "text": [
      "<class 'pandas.core.frame.DataFrame'>\n",
      "Int64Index: 672 entries, 0 to 1038\n",
      "Data columns (total 31 columns):\n",
      " #   Column          Non-Null Count  Dtype \n",
      "---  ------          --------------  ----- \n",
      " 0   Unnamed: 0.1    672 non-null    int64 \n",
      " 1   Unnamed: 0      672 non-null    int64 \n",
      " 2   Date            672 non-null    object\n",
      " 3   Tm              672 non-null    object\n",
      " 4   Opp             672 non-null    object\n",
      " 5   GS              672 non-null    object\n",
      " 6   FG              672 non-null    object\n",
      " 7   FGA             672 non-null    object\n",
      " 8   FG%             671 non-null    object\n",
      " 9   3P              672 non-null    object\n",
      " 10  3PA             672 non-null    object\n",
      " 11  3P%             540 non-null    object\n",
      " 12  FT              672 non-null    object\n",
      " 13  FTA             672 non-null    object\n",
      " 14  FT%             562 non-null    object\n",
      " 15  ORB             672 non-null    object\n",
      " 16  DRB             672 non-null    object\n",
      " 17  TRB             672 non-null    object\n",
      " 18  AST             672 non-null    object\n",
      " 19  STL             672 non-null    object\n",
      " 20  BLK             672 non-null    object\n",
      " 21  TOV             672 non-null    object\n",
      " 22  PF              672 non-null    object\n",
      " 23  PTS             672 non-null    object\n",
      " 24  GmSc            672 non-null    object\n",
      " 25  +/-             672 non-null    object\n",
      " 26  Game Played     672 non-null    object\n",
      " 27  Match Result    672 non-null    object\n",
      " 28  Points          672 non-null    int64 \n",
      " 29  Minutes Played  672 non-null    int64 \n",
      " 30  Seconds Played  672 non-null    int64 \n",
      "dtypes: int64(5), object(26)\n",
      "memory usage: 168.0+ KB\n"
     ]
    }
   ],
   "source": [
    "import pandas as pd\n",
    "dtype_dict = {'FG':'int', 'FGA':'int','FG%':'float', '3P':'int', '3PA':'int', '3P%':'float', 'FT':'int', 'FTA':'int', 'FT%':'float',\n",
    "    'ORB':'int', 'DRB':'int', 'TRB':'int','AST':'int', 'STL':'int', 'BLK':'int', 'TOV':'int', 'PF':'int', 'PTS':'int', 'Minutes Played':'int'}\n",
    "chek_df = pd.read_csv(\"2_Season_DF/Derrick_Rose_All_Time_Stats.csv\")\n",
    "played_df = chek_df[chek_df['Game Played'] == \"Yes\"]\n",
    "played_df.astype(dtype_dict)\n",
    "played_df.info()\n"
   ]
  },
  {
   "cell_type": "code",
   "execution_count": null,
   "metadata": {},
   "outputs": [],
   "source": [
    "dtype_dict = {'FG':'int', 'FGA':'int','FG%':'int', '3P':'int', '3PA':'int', '3P%':'float', 'FT':'int', 'FTA':'int', 'FT%':'float',\n",
    "    'ORB':'int', 'DRB':'int', 'TRB':'int','AST':'int', 'STL':'int', 'BLK':'int', 'TOV':'int', 'PF':'int', 'PTS':'int', 'Minutes Played':'int'}\n",
    "\n",
    "chek_df.astype(dtype_dict)"
   ]
  },
  {
   "cell_type": "code",
   "execution_count": null,
   "metadata": {},
   "outputs": [],
   "source": [
    "chek1_df = pd.read_csv(\"2_Season_DF/Filtered_Season_2021.csv\")\n",
    "chek2_df = pd.read_csv(\"2_Season_DF/Filtered_Season_2022.csv\")\n",
    "combined_df = pd.concat([chek1_df,chek2_df])\n",
    "\n",
    "combined_df.to_csv(\"2_Season_DF/Derrick_Rose_All_Time_Stats.csv\")"
   ]
  }
 ],
 "metadata": {
  "kernelspec": {
   "display_name": "Python 3.10.5 64-bit",
   "language": "python",
   "name": "python3"
  },
  "language_info": {
   "codemirror_mode": {
    "name": "ipython",
    "version": 3
   },
   "file_extension": ".py",
   "mimetype": "text/x-python",
   "name": "python",
   "nbconvert_exporter": "python",
   "pygments_lexer": "ipython3",
   "version": "3.10.5"
  },
  "orig_nbformat": 4,
  "vscode": {
   "interpreter": {
    "hash": "26de051ba29f2982a8de78e945f0abaf191376122a1563185a90213a26c5da77"
   }
  }
 },
 "nbformat": 4,
 "nbformat_minor": 2
}
